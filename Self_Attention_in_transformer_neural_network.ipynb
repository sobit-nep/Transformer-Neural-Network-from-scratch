{
  "nbformat": 4,
  "nbformat_minor": 0,
  "metadata": {
    "colab": {
      "provenance": [],
      "authorship_tag": "ABX9TyMSu3NBxrrj0rAsvb17qWbf",
      "include_colab_link": true
    },
    "kernelspec": {
      "name": "python3",
      "display_name": "Python 3"
    },
    "language_info": {
      "name": "python"
    }
  },
  "cells": [
    {
      "cell_type": "markdown",
      "metadata": {
        "id": "view-in-github",
        "colab_type": "text"
      },
      "source": [
        "<a href=\"https://colab.research.google.com/github/sobit-nep/Transformer-Neural-Network-from-scratch/blob/main/Self_Attention_in_transformer_neural_network.ipynb\" target=\"_parent\"><img src=\"https://colab.research.google.com/assets/colab-badge.svg\" alt=\"Open In Colab\"/></a>"
      ]
    },
    {
      "cell_type": "code",
      "execution_count": 1,
      "metadata": {
        "id": "fMs5Am1vEbRS"
      },
      "outputs": [],
      "source": [
        "import numpy as np\n",
        "import math\n",
        "\n",
        "L,d_k,d_v=4,8,8 #for four words sentence, eg. \"My name is Shovit\"\n",
        "q = np.random.randn(L, d_k)\n",
        "k = np.random.randn(L, d_k)\n",
        "v = np.random.randn(L, d_v)"
      ]
    },
    {
      "cell_type": "code",
      "source": [
        "print(\"Q\\n\", q)\n",
        "print(\"K\\n\", k)\n",
        "print(\"V\\n\", v)"
      ],
      "metadata": {
        "colab": {
          "base_uri": "https://localhost:8080/"
        },
        "id": "CL956IiuFYpU",
        "outputId": "4cb22243-0633-4776-9217-7b716a09cce8"
      },
      "execution_count": 2,
      "outputs": [
        {
          "output_type": "stream",
          "name": "stdout",
          "text": [
            "Q\n",
            " [[ 0.82072468 -0.08186315  0.39570796  0.64526011 -1.02650772  2.31904455\n",
            "  -0.23446429  0.5405788 ]\n",
            " [-1.41997504  0.29517739 -1.85193499  1.52058291  1.33097357 -1.71247872\n",
            "  -1.20118116 -0.0770579 ]\n",
            " [-0.11688462 -1.69123466  0.46714804  0.59474401 -2.19221197 -0.37400926\n",
            "  -0.7655121   0.51208199]\n",
            " [ 0.1971251   0.76521849 -0.09746935  1.26936539 -1.50790003  0.74519826\n",
            "   1.34664422  0.27103438]]\n",
            "K\n",
            " [[ 0.72632534  0.48378084 -0.87949137  1.20783536 -0.47065671 -0.31492596\n",
            "  -0.20685232 -1.44280894]\n",
            " [ 0.62062491  0.39095534  0.35662576  1.07046023 -0.43485367  0.34076939\n",
            "  -0.08353512  0.48569724]\n",
            " [-0.45812393 -3.02665811  1.3440903   0.00491275 -0.43887945  0.64398229\n",
            "  -1.09471788 -0.48741355]\n",
            " [ 2.20613891 -0.59654763 -0.37486852 -1.16204819  1.2727931  -0.47569271\n",
            "   0.25422276  1.22490108]]\n",
            "V\n",
            " [[ 0.09818446 -2.38935039  0.53703497  0.32469186 -0.82910017 -0.77045443\n",
            "   2.1544596  -2.31736656]\n",
            " [-0.89201249  0.300139   -0.38043479  0.9463282   0.15840573 -0.23528902\n",
            "  -0.12722867  0.65098337]\n",
            " [ 1.34035334  1.8987551  -0.20598495  0.25553826 -0.21448314 -0.86195107\n",
            "  -1.24085701 -0.94179867]\n",
            " [ 0.32407423  1.1562355  -0.51190265  0.83184956 -0.38139337 -0.90899741\n",
            "   1.81717798  0.19112976]]\n"
          ]
        }
      ]
    },
    {
      "cell_type": "markdown",
      "source": [
        "SELF ATTENTION\n",
        "\n",
        "          self attention = softmax((Q.K^T/sqrt(d_k))+M)V"
      ],
      "metadata": {
        "id": "C9Bcbn4dFyw_"
      }
    },
    {
      "cell_type": "code",
      "source": [
        "np.matmul(q,k.T)"
      ],
      "metadata": {
        "colab": {
          "base_uri": "https://localhost:8080/"
        },
        "id": "t8CeTzuHJHCw",
        "outputId": "4cf5aaf9-96c4-403f-fd2e-da0b3fa26319"
      },
      "execution_count": 3,
      "outputs": [
        {
          "output_type": "execute_result",
          "data": {
            "text/plain": [
              "array([[ 0.00920851,  2.82798595,  2.34393896, -0.84582902],\n",
              "       [ 2.84933128, -0.89801995, -3.05900347, -2.27259634],\n",
              "       [-0.02650704,  1.20801256,  7.11283327, -2.29488157],\n",
              "       [ 1.93769652,  2.67435728, -2.99575453, -3.05952171]])"
            ]
          },
          "metadata": {},
          "execution_count": 3
        }
      ]
    },
    {
      "cell_type": "code",
      "source": [
        "# Why we need sqrt(d_k) in denominator\n",
        "q.var(), k.var(), np.matmul(q, k.T).var()"
      ],
      "metadata": {
        "colab": {
          "base_uri": "https://localhost:8080/"
        },
        "id": "9iUVYwbBJVDO",
        "outputId": "7716674e-19b0-480e-d90a-e0b0ff24f353"
      },
      "execution_count": 4,
      "outputs": [
        {
          "output_type": "execute_result",
          "data": {
            "text/plain": [
              "(1.1946305514927924, 0.9727866453115241, 7.644810723906373)"
            ]
          },
          "metadata": {},
          "execution_count": 4
        }
      ]
    },
    {
      "cell_type": "code",
      "source": [
        "scaled = np.matmul(q,k.T)/math.sqrt(d_k)\n",
        "q.var(), k.var(), scaled.var()"
      ],
      "metadata": {
        "colab": {
          "base_uri": "https://localhost:8080/"
        },
        "id": "pFJQATXTJ3Kh",
        "outputId": "8d537147-70a7-4a0b-f49b-5b14a01f32c1"
      },
      "execution_count": 5,
      "outputs": [
        {
          "output_type": "execute_result",
          "data": {
            "text/plain": [
              "(1.1946305514927924, 0.9727866453115241, 0.9556013404882964)"
            ]
          },
          "metadata": {},
          "execution_count": 5
        }
      ]
    },
    {
      "cell_type": "markdown",
      "source": [
        "Notice the reduction in variance of product"
      ],
      "metadata": {
        "id": "Q1y0gfh7KsNE"
      }
    },
    {
      "cell_type": "code",
      "source": [
        "scaled"
      ],
      "metadata": {
        "colab": {
          "base_uri": "https://localhost:8080/"
        },
        "id": "1-31NF7LK1dG",
        "outputId": "34942621-6946-409c-8b41-6732bca0e89d"
      },
      "execution_count": 6,
      "outputs": [
        {
          "output_type": "execute_result",
          "data": {
            "text/plain": [
              "array([[ 0.0032557 ,  0.99984402,  0.82870757, -0.29904572],\n",
              "       [ 1.00739073, -0.317498  , -1.08152105, -0.80348414],\n",
              "       [-0.00937166,  0.42709694,  2.51476632, -0.81136316],\n",
              "       [ 0.68507918,  0.94552808, -1.05915917, -1.08170427]])"
            ]
          },
          "metadata": {},
          "execution_count": 6
        }
      ]
    },
    {
      "cell_type": "markdown",
      "source": [
        "# **Masking**\n",
        "• This is to ensure words don't get context from words generated in the future.\n",
        "\n",
        "\n",
        "\n",
        "• Not required in the encoders, but required int he decoders"
      ],
      "metadata": {
        "id": "39FogPzpLU70"
      }
    },
    {
      "cell_type": "code",
      "source": [
        "mask = np.tril(np.ones((L,L)))\n",
        "mask"
      ],
      "metadata": {
        "colab": {
          "base_uri": "https://localhost:8080/"
        },
        "id": "w8ANlYvtLdXU",
        "outputId": "88f1926f-7d1e-4cb6-f918-599946bc7611"
      },
      "execution_count": 7,
      "outputs": [
        {
          "output_type": "execute_result",
          "data": {
            "text/plain": [
              "array([[1., 0., 0., 0.],\n",
              "       [1., 1., 0., 0.],\n",
              "       [1., 1., 1., 0.],\n",
              "       [1., 1., 1., 1.]])"
            ]
          },
          "metadata": {},
          "execution_count": 7
        }
      ]
    },
    {
      "cell_type": "code",
      "source": [
        "mask[mask==0]=-np.inf\n",
        "mask[mask==1]=0"
      ],
      "metadata": {
        "id": "l-KjAlsGMRAw"
      },
      "execution_count": 9,
      "outputs": []
    },
    {
      "cell_type": "code",
      "source": [
        "mask"
      ],
      "metadata": {
        "colab": {
          "base_uri": "https://localhost:8080/"
        },
        "id": "p6hbloJbMfZV",
        "outputId": "5d83ca71-cca3-40af-d62a-60697e8646a4"
      },
      "execution_count": 10,
      "outputs": [
        {
          "output_type": "execute_result",
          "data": {
            "text/plain": [
              "array([[  0., -inf, -inf, -inf],\n",
              "       [  0.,   0., -inf, -inf],\n",
              "       [  0.,   0.,   0., -inf],\n",
              "       [  0.,   0.,   0.,   0.]])"
            ]
          },
          "metadata": {},
          "execution_count": 10
        }
      ]
    },
    {
      "cell_type": "code",
      "source": [
        "scaled+mask"
      ],
      "metadata": {
        "colab": {
          "base_uri": "https://localhost:8080/"
        },
        "id": "cULP5TP-MjHq",
        "outputId": "3031aa6e-a9f7-4233-9360-e3c12a1bac29"
      },
      "execution_count": 12,
      "outputs": [
        {
          "output_type": "execute_result",
          "data": {
            "text/plain": [
              "array([[ 0.0032557 ,        -inf,        -inf,        -inf],\n",
              "       [ 1.00739073, -0.317498  ,        -inf,        -inf],\n",
              "       [-0.00937166,  0.42709694,  2.51476632,        -inf],\n",
              "       [ 0.68507918,  0.94552808, -1.05915917, -1.08170427]])"
            ]
          },
          "metadata": {},
          "execution_count": 12
        }
      ]
    },
    {
      "cell_type": "markdown",
      "source": [
        "# **SOFTMAX**\n",
        "    SOFTMAX(x_i)=exp(x_i)/sum(exp(x_j))"
      ],
      "metadata": {
        "id": "RCSIytCmM7cG"
      }
    },
    {
      "cell_type": "code",
      "source": [],
      "metadata": {
        "id": "SYL4msetM6_C"
      },
      "execution_count": null,
      "outputs": []
    },
    {
      "cell_type": "code",
      "source": [
        "def softmax(x):\n",
        "  return (np.exp(x). T /np.sum (np.exp(x), axis=-1)).T"
      ],
      "metadata": {
        "id": "riPXTMF5M5T_"
      },
      "execution_count": 13,
      "outputs": []
    },
    {
      "cell_type": "code",
      "source": [
        "attention = softmax(scaled + mask)"
      ],
      "metadata": {
        "id": "4iixhpR3N8X1"
      },
      "execution_count": 15,
      "outputs": []
    },
    {
      "cell_type": "code",
      "source": [
        "attention"
      ],
      "metadata": {
        "colab": {
          "base_uri": "https://localhost:8080/"
        },
        "id": "puewU4LFOE4x",
        "outputId": "b68b688c-3120-4562-925f-06fde3ab2ee0"
      },
      "execution_count": 16,
      "outputs": [
        {
          "output_type": "execute_result",
          "data": {
            "text/plain": [
              "array([[1.        , 0.        , 0.        , 0.        ],\n",
              "       [0.78999391, 0.21000609, 0.        , 0.        ],\n",
              "       [0.06654526, 0.10296107, 0.83049367, 0.        ],\n",
              "       [0.37833327, 0.49089212, 0.06612435, 0.06465025]])"
            ]
          },
          "metadata": {},
          "execution_count": 16
        }
      ]
    },
    {
      "cell_type": "code",
      "source": [
        "v_new = np.matmul(attention, v)\n",
        "v_new"
      ],
      "metadata": {
        "colab": {
          "base_uri": "https://localhost:8080/"
        },
        "id": "eeKSubFvOeRL",
        "outputId": "7a0c203e-c84c-4b1a-8a5a-a3bc405762f6"
      },
      "execution_count": 18,
      "outputs": [
        {
          "output_type": "execute_result",
          "data": {
            "text/plain": [
              "array([[ 0.09818446, -2.38935039,  0.53703497,  0.32469186, -0.82910017,\n",
              "        -0.77045443,  2.1544596 , -2.31736656],\n",
              "       [-0.10976293, -1.82454125,  0.34436074,  0.45523928, -0.62171792,\n",
              "        -0.65806643,  1.67529117, -1.69399501],\n",
              "       [ 1.02784612,  1.44880678, -0.17450204,  0.33126458, -0.21698996,\n",
              "        -0.79134061, -0.90025442, -0.86934166],\n",
              "       [-0.29115397, -0.55633001, -0.0302895 ,  0.65806338, -0.2747558 ,\n",
              "        -0.52275294,  0.78807835, -0.60709351]])"
            ]
          },
          "metadata": {},
          "execution_count": 18
        }
      ]
    },
    {
      "cell_type": "code",
      "source": [
        "v"
      ],
      "metadata": {
        "colab": {
          "base_uri": "https://localhost:8080/"
        },
        "id": "yfplzPrWO1om",
        "outputId": "59a39d54-2597-47a6-a0dd-3d32f8714c60"
      },
      "execution_count": 19,
      "outputs": [
        {
          "output_type": "execute_result",
          "data": {
            "text/plain": [
              "array([[ 0.09818446, -2.38935039,  0.53703497,  0.32469186, -0.82910017,\n",
              "        -0.77045443,  2.1544596 , -2.31736656],\n",
              "       [-0.89201249,  0.300139  , -0.38043479,  0.9463282 ,  0.15840573,\n",
              "        -0.23528902, -0.12722867,  0.65098337],\n",
              "       [ 1.34035334,  1.8987551 , -0.20598495,  0.25553826, -0.21448314,\n",
              "        -0.86195107, -1.24085701, -0.94179867],\n",
              "       [ 0.32407423,  1.1562355 , -0.51190265,  0.83184956, -0.38139337,\n",
              "        -0.90899741,  1.81717798,  0.19112976]])"
            ]
          },
          "metadata": {},
          "execution_count": 19
        }
      ]
    }
  ]
}