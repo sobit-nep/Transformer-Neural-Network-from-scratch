{
  "nbformat": 4,
  "nbformat_minor": 0,
  "metadata": {
    "colab": {
      "provenance": [],
      "authorship_tag": "ABX9TyO6hahMKmDNUm9fKEnebj+C",
      "include_colab_link": true
    },
    "kernelspec": {
      "name": "python3",
      "display_name": "Python 3"
    },
    "language_info": {
      "name": "python"
    }
  },
  "cells": [
    {
      "cell_type": "markdown",
      "metadata": {
        "id": "view-in-github",
        "colab_type": "text"
      },
      "source": [
        "<a href=\"https://colab.research.google.com/github/sobit-nep/Transformer-Neural-Network-from-scratch/blob/main/positional_encoding.ipynb\" target=\"_parent\"><img src=\"https://colab.research.google.com/assets/colab-badge.svg\" alt=\"Open In Colab\"/></a>"
      ]
    },
    {
      "cell_type": "code",
      "execution_count": 2,
      "metadata": {
        "id": "6rF040dd4paA"
      },
      "outputs": [],
      "source": [
        "import torch\n",
        "import torch.nn as nn\n",
        "\n",
        "max_sequence_length = 10 #for my case\n",
        "d_model = 6 #typically 512"
      ]
    },
    {
      "cell_type": "markdown",
      "source": [
        "# Positional Embedding\n",
        "\n",
        "PE (pos, 2i) = sin(pos/10000^(2i/d_model))\n",
        "\n",
        "PE (pos,2i+1) = cos(pos/10000^(2i/d_model))\n",
        "\n",
        "i= dimension index\n",
        "\n",
        "d_model = Embedding Length\n",
        "\n",
        "pos = Position of word in sequence\n",
        "\n",
        "WHY?\n",
        "1. Periodicity\n",
        "2. Constrained Values\n",
        "3. Easy to extrapolate for long sequences"
      ],
      "metadata": {
        "id": "g1lykTw655ZQ"
      }
    },
    {
      "cell_type": "markdown",
      "source": [
        "PE (pos, i) = sin(pos/10000^(i/d_model)) when i is even\n",
        "\n",
        "PE (pos,i+1) = cos(pos/10000^(i-1/d_model)) when i is odd"
      ],
      "metadata": {
        "id": "ceccRSLN72Bb"
      }
    },
    {
      "cell_type": "code",
      "source": [
        "even_i = torch.arange(0,d_model, 2).float()\n",
        "even_i"
      ],
      "metadata": {
        "colab": {
          "base_uri": "https://localhost:8080/"
        },
        "id": "15R_BHDs8V85",
        "outputId": "d258d2a8-517b-4da3-b389-34d8261fe558"
      },
      "execution_count": 4,
      "outputs": [
        {
          "output_type": "execute_result",
          "data": {
            "text/plain": [
              "tensor([0., 2., 4.])"
            ]
          },
          "metadata": {},
          "execution_count": 4
        }
      ]
    },
    {
      "cell_type": "code",
      "source": [
        "even_denominator = torch.pow(1000,even_i/d_model)\n",
        "even_denominator"
      ],
      "metadata": {
        "colab": {
          "base_uri": "https://localhost:8080/"
        },
        "id": "msDWVfc28m8B",
        "outputId": "17eeac04-87ad-4fd2-c7bf-aa3a68a3626b"
      },
      "execution_count": 5,
      "outputs": [
        {
          "output_type": "execute_result",
          "data": {
            "text/plain": [
              "tensor([  1.0000,  10.0000, 100.0000])"
            ]
          },
          "metadata": {},
          "execution_count": 5
        }
      ]
    },
    {
      "cell_type": "code",
      "source": [
        "odd_i = torch.arange(1, d_model, 2).float()\n",
        "odd_i"
      ],
      "metadata": {
        "colab": {
          "base_uri": "https://localhost:8080/"
        },
        "id": "9Khqn9609Ri1",
        "outputId": "e11b1c5e-1618-42fd-d1b0-28a057091808"
      },
      "execution_count": 6,
      "outputs": [
        {
          "output_type": "execute_result",
          "data": {
            "text/plain": [
              "tensor([1., 3., 5.])"
            ]
          },
          "metadata": {},
          "execution_count": 6
        }
      ]
    },
    {
      "cell_type": "code",
      "source": [
        "odd_denominator = torch.pow(1000,(odd_i-1)/d_model)\n",
        "odd_denominator"
      ],
      "metadata": {
        "colab": {
          "base_uri": "https://localhost:8080/"
        },
        "id": "4ZbGz0AN9fF0",
        "outputId": "44b691c9-c159-431e-adcd-f95497c8b19c"
      },
      "execution_count": 7,
      "outputs": [
        {
          "output_type": "execute_result",
          "data": {
            "text/plain": [
              "tensor([  1.0000,  10.0000, 100.0000])"
            ]
          },
          "metadata": {},
          "execution_count": 7
        }
      ]
    },
    {
      "cell_type": "markdown",
      "source": [
        "Here we can see that odd_denominator=even_denominator."
      ],
      "metadata": {
        "id": "jZOrS7Jl9-wF"
      }
    },
    {
      "cell_type": "code",
      "source": [
        "denominator = even_denominator"
      ],
      "metadata": {
        "id": "WfQAlmijAPtN"
      },
      "execution_count": 8,
      "outputs": []
    },
    {
      "cell_type": "code",
      "source": [
        "position = torch.arange(max_sequence_length,dtype=torch.float).reshape(max_sequence_length,1)"
      ],
      "metadata": {
        "id": "RWco5__WAcyC"
      },
      "execution_count": 9,
      "outputs": []
    },
    {
      "cell_type": "code",
      "source": [
        "position"
      ],
      "metadata": {
        "colab": {
          "base_uri": "https://localhost:8080/"
        },
        "id": "Xaf-AlNpA2Cr",
        "outputId": "6de6b6f3-2f49-4cf2-e138-53eca55188c1"
      },
      "execution_count": 10,
      "outputs": [
        {
          "output_type": "execute_result",
          "data": {
            "text/plain": [
              "tensor([[0.],\n",
              "        [1.],\n",
              "        [2.],\n",
              "        [3.],\n",
              "        [4.],\n",
              "        [5.],\n",
              "        [6.],\n",
              "        [7.],\n",
              "        [8.],\n",
              "        [9.]])"
            ]
          },
          "metadata": {},
          "execution_count": 10
        }
      ]
    },
    {
      "cell_type": "code",
      "source": [
        "even_PE = torch.sin(position/denominator)\n",
        "odd_PE = torch.cos(position/denominator)"
      ],
      "metadata": {
        "id": "TWSfxMldBMCp"
      },
      "execution_count": 11,
      "outputs": []
    },
    {
      "cell_type": "code",
      "source": [
        "even_PE"
      ],
      "metadata": {
        "colab": {
          "base_uri": "https://localhost:8080/"
        },
        "id": "8hu4NmUKBjJl",
        "outputId": "1dcb98c5-0487-4dc4-8750-d1ab5af6c603"
      },
      "execution_count": 12,
      "outputs": [
        {
          "output_type": "execute_result",
          "data": {
            "text/plain": [
              "tensor([[ 0.0000,  0.0000,  0.0000],\n",
              "        [ 0.8415,  0.0998,  0.0100],\n",
              "        [ 0.9093,  0.1987,  0.0200],\n",
              "        [ 0.1411,  0.2955,  0.0300],\n",
              "        [-0.7568,  0.3894,  0.0400],\n",
              "        [-0.9589,  0.4794,  0.0500],\n",
              "        [-0.2794,  0.5646,  0.0600],\n",
              "        [ 0.6570,  0.6442,  0.0699],\n",
              "        [ 0.9894,  0.7174,  0.0799],\n",
              "        [ 0.4121,  0.7833,  0.0899]])"
            ]
          },
          "metadata": {},
          "execution_count": 12
        }
      ]
    },
    {
      "cell_type": "code",
      "source": [
        "odd_PE"
      ],
      "metadata": {
        "colab": {
          "base_uri": "https://localhost:8080/"
        },
        "id": "DjnKXnfIBlN7",
        "outputId": "f24ffc66-64d8-4c1c-98e2-c72cefb00946"
      },
      "execution_count": 13,
      "outputs": [
        {
          "output_type": "execute_result",
          "data": {
            "text/plain": [
              "tensor([[ 1.0000,  1.0000,  1.0000],\n",
              "        [ 0.5403,  0.9950,  0.9999],\n",
              "        [-0.4161,  0.9801,  0.9998],\n",
              "        [-0.9900,  0.9553,  0.9996],\n",
              "        [-0.6536,  0.9211,  0.9992],\n",
              "        [ 0.2837,  0.8776,  0.9988],\n",
              "        [ 0.9602,  0.8253,  0.9982],\n",
              "        [ 0.7539,  0.7648,  0.9976],\n",
              "        [-0.1455,  0.6967,  0.9968],\n",
              "        [-0.9111,  0.6216,  0.9960]])"
            ]
          },
          "metadata": {},
          "execution_count": 13
        }
      ]
    },
    {
      "cell_type": "code",
      "source": [
        "odd_PE.shape"
      ],
      "metadata": {
        "colab": {
          "base_uri": "https://localhost:8080/"
        },
        "id": "L6jgW3FxBx1d",
        "outputId": "e7916dfc-f4d7-4579-d097-8df6fa851600"
      },
      "execution_count": 14,
      "outputs": [
        {
          "output_type": "execute_result",
          "data": {
            "text/plain": [
              "torch.Size([10, 3])"
            ]
          },
          "metadata": {},
          "execution_count": 14
        }
      ]
    },
    {
      "cell_type": "code",
      "source": [
        "stacked = torch.stack([even_PE,odd_PE], dim=2)\n",
        "stacked.shape"
      ],
      "metadata": {
        "colab": {
          "base_uri": "https://localhost:8080/"
        },
        "id": "mlFDUv7wB0j0",
        "outputId": "c29746f9-380d-422b-81f0-280e7513701b"
      },
      "execution_count": 15,
      "outputs": [
        {
          "output_type": "execute_result",
          "data": {
            "text/plain": [
              "torch.Size([10, 3, 2])"
            ]
          },
          "metadata": {},
          "execution_count": 15
        }
      ]
    },
    {
      "cell_type": "code",
      "source": [
        "PE = torch.flatten(stacked, start_dim=1, end_dim=2)\n",
        "PE"
      ],
      "metadata": {
        "colab": {
          "base_uri": "https://localhost:8080/"
        },
        "id": "tcO1Z0kGCGuD",
        "outputId": "7bc03256-b99d-4434-cff8-9a3a3b3fcbc0"
      },
      "execution_count": 16,
      "outputs": [
        {
          "output_type": "execute_result",
          "data": {
            "text/plain": [
              "tensor([[ 0.0000,  1.0000,  0.0000,  1.0000,  0.0000,  1.0000],\n",
              "        [ 0.8415,  0.5403,  0.0998,  0.9950,  0.0100,  0.9999],\n",
              "        [ 0.9093, -0.4161,  0.1987,  0.9801,  0.0200,  0.9998],\n",
              "        [ 0.1411, -0.9900,  0.2955,  0.9553,  0.0300,  0.9996],\n",
              "        [-0.7568, -0.6536,  0.3894,  0.9211,  0.0400,  0.9992],\n",
              "        [-0.9589,  0.2837,  0.4794,  0.8776,  0.0500,  0.9988],\n",
              "        [-0.2794,  0.9602,  0.5646,  0.8253,  0.0600,  0.9982],\n",
              "        [ 0.6570,  0.7539,  0.6442,  0.7648,  0.0699,  0.9976],\n",
              "        [ 0.9894, -0.1455,  0.7174,  0.6967,  0.0799,  0.9968],\n",
              "        [ 0.4121, -0.9111,  0.7833,  0.6216,  0.0899,  0.9960]])"
            ]
          },
          "metadata": {},
          "execution_count": 16
        }
      ]
    },
    {
      "cell_type": "markdown",
      "source": [
        "# Combining all above cells in a class for reusability"
      ],
      "metadata": {
        "id": "-XNOYZ7zCcvE"
      }
    },
    {
      "cell_type": "code",
      "source": [
        "import torch\n",
        "import torch.nn as nn\n",
        "class PositionalEncoding(nn.Module):\n",
        "  def __init__(self, d_model, max_sequence_length):\n",
        "    super().__init__()\n",
        "    self.max_sequence_length = max_sequence_length\n",
        "    self.d_model= d_model\n",
        "  def forward(self):\n",
        "    even_i= torch.arange(0, self.d_model, 2).float()\n",
        "    denominator = torch.pow (10000, even_i/self.d_model)\n",
        "    position = torch.arange(self.max_sequence_length). reshape (self.max_sequence_length, 1)\n",
        "    even_PE = torch.sin(position / denominator)\n",
        "    odd_PE = torch.cos(position / denominator)\n",
        "    stacked = torch.stack( [even_PE, odd_PE], dim=2)\n",
        "    PE = torch.flatten (stacked, start_dim=1, end_dim=2)\n",
        "    return PE"
      ],
      "metadata": {
        "id": "-LrJci3ACkv9"
      },
      "execution_count": 25,
      "outputs": []
    },
    {
      "cell_type": "code",
      "source": [
        "pe=PositionalEncoding(d_model = 6, max_sequence_length = 10)\n",
        "pe.forward()"
      ],
      "metadata": {
        "colab": {
          "base_uri": "https://localhost:8080/"
        },
        "id": "IVxxQSLVC_mC",
        "outputId": "da1fe0b8-3c41-4fc1-8bd8-4639e5006e81"
      },
      "execution_count": 26,
      "outputs": [
        {
          "output_type": "execute_result",
          "data": {
            "text/plain": [
              "tensor([[ 0.0000,  1.0000,  0.0000,  1.0000,  0.0000,  1.0000],\n",
              "        [ 0.8415,  0.5403,  0.0464,  0.9989,  0.0022,  1.0000],\n",
              "        [ 0.9093, -0.4161,  0.0927,  0.9957,  0.0043,  1.0000],\n",
              "        [ 0.1411, -0.9900,  0.1388,  0.9903,  0.0065,  1.0000],\n",
              "        [-0.7568, -0.6536,  0.1846,  0.9828,  0.0086,  1.0000],\n",
              "        [-0.9589,  0.2837,  0.2300,  0.9732,  0.0108,  0.9999],\n",
              "        [-0.2794,  0.9602,  0.2749,  0.9615,  0.0129,  0.9999],\n",
              "        [ 0.6570,  0.7539,  0.3192,  0.9477,  0.0151,  0.9999],\n",
              "        [ 0.9894, -0.1455,  0.3629,  0.9318,  0.0172,  0.9999],\n",
              "        [ 0.4121, -0.9111,  0.4057,  0.9140,  0.0194,  0.9998]])"
            ]
          },
          "metadata": {},
          "execution_count": 26
        }
      ]
    }
  ]
}