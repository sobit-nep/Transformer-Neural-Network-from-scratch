{
  "nbformat": 4,
  "nbformat_minor": 0,
  "metadata": {
    "colab": {
      "provenance": [],
      "include_colab_link": true
    },
    "kernelspec": {
      "name": "python3",
      "display_name": "Python 3"
    },
    "language_info": {
      "name": "python"
    }
  },
  "cells": [
    {
      "cell_type": "markdown",
      "metadata": {
        "id": "view-in-github",
        "colab_type": "text"
      },
      "source": [
        "<a href=\"https://colab.research.google.com/github/sobit-nep/Transformer-Neural-Network-from-scratch/blob/main/Layer_Normalization.ipynb\" target=\"_parent\"><img src=\"https://colab.research.google.com/assets/colab-badge.svg\" alt=\"Open In Colab\"/></a>"
      ]
    },
    {
      "cell_type": "code",
      "source": [
        "import torch\n",
        "from torch import nn"
      ],
      "metadata": {
        "id": "yauMbbQbJ5Jk"
      },
      "execution_count": 1,
      "outputs": []
    },
    {
      "cell_type": "code",
      "source": [
        "inputs = torch.Tensor([[[0.2, 0.1, 0.3], [0.5, 0.1, 0.1]]])\n",
        "B, S, E = inputs.size()\n",
        "inputs = inputs.reshape(S, B, E)\n",
        "inputs.size()"
      ],
      "metadata": {
        "colab": {
          "base_uri": "https://localhost:8080/"
        },
        "id": "TL65EVE_J7KO",
        "outputId": "2745783f-8493-4446-ac2d-fe60bb0fac19"
      },
      "execution_count": 2,
      "outputs": [
        {
          "output_type": "execute_result",
          "data": {
            "text/plain": [
              "torch.Size([2, 1, 3])"
            ]
          },
          "metadata": {},
          "execution_count": 2
        }
      ]
    },
    {
      "cell_type": "code",
      "source": [
        "parameter_shape = inputs.size()[-2:]\n",
        "gamma = nn.Parameter(torch.ones(parameter_shape))\n",
        "beta =  nn.Parameter(torch.zeros(parameter_shape))"
      ],
      "metadata": {
        "id": "--zvWWq2KLl1"
      },
      "execution_count": 3,
      "outputs": []
    },
    {
      "cell_type": "code",
      "source": [
        "gamma.size(), beta.size()"
      ],
      "metadata": {
        "colab": {
          "base_uri": "https://localhost:8080/"
        },
        "id": "YAhmuOruKYzO",
        "outputId": "6ac4bfba-6a2d-4370-a0b3-cff67d40b8d6"
      },
      "execution_count": 4,
      "outputs": [
        {
          "output_type": "execute_result",
          "data": {
            "text/plain": [
              "(torch.Size([1, 3]), torch.Size([1, 3]))"
            ]
          },
          "metadata": {},
          "execution_count": 4
        }
      ]
    },
    {
      "cell_type": "code",
      "source": [
        "dims = [-(i + 1) for i in range(len(parameter_shape))]"
      ],
      "metadata": {
        "id": "85ajY22cJ5Bg"
      },
      "execution_count": 5,
      "outputs": []
    },
    {
      "cell_type": "code",
      "source": [
        "dims"
      ],
      "metadata": {
        "colab": {
          "base_uri": "https://localhost:8080/"
        },
        "id": "APG-ccQ1J4zc",
        "outputId": "74fc90aa-b4a7-45b2-e3da-8c15b020b76a"
      },
      "execution_count": 6,
      "outputs": [
        {
          "output_type": "execute_result",
          "data": {
            "text/plain": [
              "[-1, -2]"
            ]
          },
          "metadata": {},
          "execution_count": 6
        }
      ]
    },
    {
      "cell_type": "code",
      "source": [
        "mean = inputs.mean(dim=dims, keepdim=True)\n",
        "mean.size()"
      ],
      "metadata": {
        "colab": {
          "base_uri": "https://localhost:8080/"
        },
        "id": "Py8DHV7AMX6y",
        "outputId": "c9d0cee7-f22c-469e-86d1-9dbaf8152821"
      },
      "execution_count": 7,
      "outputs": [
        {
          "output_type": "execute_result",
          "data": {
            "text/plain": [
              "torch.Size([2, 1, 1])"
            ]
          },
          "metadata": {},
          "execution_count": 7
        }
      ]
    },
    {
      "cell_type": "code",
      "source": [
        "mean"
      ],
      "metadata": {
        "colab": {
          "base_uri": "https://localhost:8080/"
        },
        "id": "P4w9NIUPQRj-",
        "outputId": "f29eba69-c946-46b6-f6bf-4cade55a46a5"
      },
      "execution_count": 8,
      "outputs": [
        {
          "output_type": "execute_result",
          "data": {
            "text/plain": [
              "tensor([[[0.2000]],\n",
              "\n",
              "        [[0.2333]]])"
            ]
          },
          "metadata": {},
          "execution_count": 8
        }
      ]
    },
    {
      "cell_type": "code",
      "source": [
        "var = ((inputs - mean) ** 2).mean(dim=dims, keepdim=True)\n",
        "epsilon = 1e-5\n",
        "std = (var + epsilon).sqrt()\n",
        "std"
      ],
      "metadata": {
        "colab": {
          "base_uri": "https://localhost:8080/"
        },
        "id": "1lEkVVi3M_8_",
        "outputId": "fd77f04c-05d0-4bd1-fa0f-cfc6a6324ba5"
      },
      "execution_count": 9,
      "outputs": [
        {
          "output_type": "execute_result",
          "data": {
            "text/plain": [
              "tensor([[[0.0817]],\n",
              "\n",
              "        [[0.1886]]])"
            ]
          },
          "metadata": {},
          "execution_count": 9
        }
      ]
    },
    {
      "cell_type": "code",
      "source": [
        "y = (inputs - mean) / std\n",
        "y"
      ],
      "metadata": {
        "colab": {
          "base_uri": "https://localhost:8080/"
        },
        "id": "rRokYqlDN6yJ",
        "outputId": "d34cf04a-bd74-46bd-85b3-abee50d5736e"
      },
      "execution_count": 10,
      "outputs": [
        {
          "output_type": "execute_result",
          "data": {
            "text/plain": [
              "tensor([[[ 0.0000, -1.2238,  1.2238]],\n",
              "\n",
              "        [[ 1.4140, -0.7070, -0.7070]]])"
            ]
          },
          "metadata": {},
          "execution_count": 10
        }
      ]
    },
    {
      "cell_type": "code",
      "source": [
        "out = gamma * y + beta"
      ],
      "metadata": {
        "id": "7cc8NMZVN_sQ"
      },
      "execution_count": 11,
      "outputs": []
    },
    {
      "cell_type": "code",
      "source": [
        "out"
      ],
      "metadata": {
        "colab": {
          "base_uri": "https://localhost:8080/"
        },
        "id": "YquX9ABbOLKy",
        "outputId": "b05fb75e-d9ea-4db7-f5d1-e7dd24d53eda"
      },
      "execution_count": 12,
      "outputs": [
        {
          "output_type": "execute_result",
          "data": {
            "text/plain": [
              "tensor([[[ 0.0000, -1.2238,  1.2238]],\n",
              "\n",
              "        [[ 1.4140, -0.7070, -0.7070]]], grad_fn=<AddBackward0>)"
            ]
          },
          "metadata": {},
          "execution_count": 12
        }
      ]
    },
    {
      "cell_type": "markdown",
      "source": [
        "## Class for reusability"
      ],
      "metadata": {
        "id": "BO4x-axkv9j8"
      }
    },
    {
      "cell_type": "code",
      "source": [
        "import torch\n",
        "from torch import nn\n",
        "\n",
        "class LayerNormalization():\n",
        "    def __init__(self, parameters_shape, eps=1e-5):\n",
        "        self.parameters_shape=parameters_shape\n",
        "        self.eps=eps\n",
        "        self.gamma = nn.Parameter(torch.ones(parameters_shape))\n",
        "        self.beta =  nn.Parameter(torch.zeros(parameters_shape))\n",
        "\n",
        "    def forward(self, input):\n",
        "        dims = [-(i + 1) for i in range(len(self.parameters_shape))]\n",
        "        mean = inputs.mean(dim=dims, keepdim=True)\n",
        "        print(f\"Mean \\n ({mean.size()}): \\n {mean}\")\n",
        "        var = ((inputs - mean) ** 2).mean(dim=dims, keepdim=True)\n",
        "        std = (var + self.eps).sqrt()\n",
        "        print(f\"Standard Deviation \\n ({std.size()}): \\n {std}\")\n",
        "        y = (inputs - mean) / std\n",
        "        print(f\"y \\n ({y.size()}) = \\n {y}\")\n",
        "        out = self.gamma * y  + self.beta\n",
        "        print(f\"out \\n ({out.size()}) = \\n {out}\")\n",
        "        return out"
      ],
      "metadata": {
        "id": "MYJ2AE7Sv-Wc"
      },
      "execution_count": 13,
      "outputs": []
    },
    {
      "cell_type": "code",
      "source": [
        "batch_size = 3\n",
        "sentence_length = 5\n",
        "embedding_dim = 8\n",
        "inputs = torch.randn(sentence_length, batch_size, embedding_dim)\n",
        "\n",
        "print(f\"input \\n ({inputs.size()}) = \\n {inputs}\")"
      ],
      "metadata": {
        "colab": {
          "base_uri": "https://localhost:8080/"
        },
        "id": "zrnZx0HYyoRz",
        "outputId": "4e594deb-0520-4649-ea9a-74a191f9694d"
      },
      "execution_count": 14,
      "outputs": [
        {
          "output_type": "stream",
          "name": "stdout",
          "text": [
            "input \n",
            " (torch.Size([5, 3, 8])) = \n",
            " tensor([[[ 1.6582, -0.8341, -1.3846,  1.5867,  0.2581, -1.9033, -1.8475,\n",
            "          -0.2854],\n",
            "         [ 0.6123, -0.9360, -1.4004,  0.2883,  0.9917,  0.0688,  0.0280,\n",
            "          -0.5269],\n",
            "         [ 0.3260,  0.5820,  0.2460,  0.2549,  0.5195, -1.1284, -0.1948,\n",
            "          -0.7692]],\n",
            "\n",
            "        [[ 0.3893, -1.0838, -0.8419,  2.5523, -1.7229,  0.4919, -1.1041,\n",
            "           0.5163],\n",
            "         [-0.9059,  0.0350, -0.4745,  0.8367,  1.3299,  0.1969,  1.1188,\n",
            "          -1.8110],\n",
            "         [-1.1036,  0.6325,  0.0871,  0.2015,  0.4920,  0.4249, -0.0884,\n",
            "           0.7800]],\n",
            "\n",
            "        [[-0.7446, -1.2254, -0.3047,  0.4283,  0.0642,  0.3386, -1.1208,\n",
            "           0.0894],\n",
            "         [-1.2498,  1.2458,  0.0080, -0.0237,  0.0533, -0.1207, -0.3037,\n",
            "           0.8869],\n",
            "         [-0.8955, -0.4221, -1.6601, -1.0594,  1.0127, -0.4657,  1.1418,\n",
            "           0.0758]],\n",
            "\n",
            "        [[-1.7145, -0.1119, -0.3125,  1.1601,  0.6609, -0.7731,  0.1862,\n",
            "          -0.2007],\n",
            "         [ 0.7766, -0.2800, -1.1036, -0.3043,  0.2881, -0.5547, -1.3156,\n",
            "          -0.4113],\n",
            "         [ 0.9959, -1.8151, -1.9158, -0.7702,  0.5576,  0.1625,  0.9619,\n",
            "          -0.8638]],\n",
            "\n",
            "        [[-0.3858, -0.2581, -0.7280,  0.7494,  0.3687,  0.1920, -1.1549,\n",
            "           0.2343],\n",
            "         [-0.0149,  1.5858,  0.0814, -0.5268, -1.8454, -1.0456, -0.8888,\n",
            "           0.0951],\n",
            "         [ 0.8491,  0.0098, -0.4737, -1.3139, -0.7973,  1.3839, -1.3594,\n",
            "          -1.5170]]])\n"
          ]
        }
      ]
    },
    {
      "cell_type": "code",
      "source": [
        "layer_norm = LayerNormalization(inputs.size()[-1:])"
      ],
      "metadata": {
        "id": "3U3akvkFys68"
      },
      "execution_count": 15,
      "outputs": []
    },
    {
      "cell_type": "code",
      "source": [
        "out = layer_norm.forward(inputs)"
      ],
      "metadata": {
        "colab": {
          "base_uri": "https://localhost:8080/"
        },
        "id": "JQ9lt7LUy-g9",
        "outputId": "5c7bc483-a98e-439f-b119-26de22562b2a"
      },
      "execution_count": 16,
      "outputs": [
        {
          "output_type": "stream",
          "name": "stdout",
          "text": [
            "Mean \n",
            " (torch.Size([5, 3, 1])): \n",
            " tensor([[[-0.3440],\n",
            "         [-0.1093],\n",
            "         [-0.0205]],\n",
            "\n",
            "        [[-0.1004],\n",
            "         [ 0.0407],\n",
            "         [ 0.1783]],\n",
            "\n",
            "        [[-0.3094],\n",
            "         [ 0.0620],\n",
            "         [-0.2841]],\n",
            "\n",
            "        [[-0.1382],\n",
            "         [-0.3631],\n",
            "         [-0.3359]],\n",
            "\n",
            "        [[-0.1228],\n",
            "         [-0.3199],\n",
            "         [-0.4023]]])\n",
            "Standard Deviation \n",
            " (torch.Size([5, 3, 1])): \n",
            " tensor([[[1.3284],\n",
            "         [0.7472],\n",
            "         [0.5852]],\n",
            "\n",
            "        [[1.2828],\n",
            "         [1.0046],\n",
            "         [0.5535]],\n",
            "\n",
            "        [[0.6072],\n",
            "         [0.7054],\n",
            "         [0.9196]],\n",
            "\n",
            "        [[0.8179],\n",
            "         [0.6352],\n",
            "         [1.0986]],\n",
            "\n",
            "        [[0.5861],\n",
            "         [0.9538],\n",
            "         [1.0048]]])\n",
            "y \n",
            " (torch.Size([5, 3, 8])) = \n",
            " tensor([[[ 1.5072, -0.3689, -0.7833,  1.4534,  0.4532, -1.1738, -1.1318,\n",
            "           0.0441],\n",
            "         [ 0.9657, -1.1064, -1.7280,  0.5321,  1.4735,  0.2384,  0.1837,\n",
            "          -0.5589],\n",
            "         [ 0.5921,  1.0295,  0.4554,  0.4706,  0.9227, -1.8931, -0.2978,\n",
            "          -1.2793]],\n",
            "\n",
            "        [[ 0.3817, -0.7666, -0.5781,  2.0679, -1.2648,  0.4617, -0.7824,\n",
            "           0.4807],\n",
            "         [-0.9423, -0.0057, -0.5129,  0.7924,  1.2833,  0.1554,  1.0732,\n",
            "          -1.8434],\n",
            "         [-2.3159,  0.8206, -0.1647,  0.0420,  0.5669,  0.4455, -0.4817,\n",
            "           1.0872]],\n",
            "\n",
            "        [[-0.7168, -1.5085,  0.0076,  1.2149,  0.6152,  1.0671, -1.3363,\n",
            "           0.6568],\n",
            "         [-1.8598,  1.6783, -0.0766, -0.1215, -0.0123, -0.2590, -0.5184,\n",
            "           1.1694],\n",
            "         [-0.6649, -0.1501, -1.4964, -0.8431,  1.4102, -0.1975,  1.5506,\n",
            "           0.3913]],\n",
            "\n",
            "        [[-1.9271,  0.0321, -0.2131,  1.5873,  0.9770, -0.7763,  0.3966,\n",
            "          -0.0764],\n",
            "         [ 1.7942,  0.1308, -1.1657,  0.0926,  1.0252, -0.3016, -1.4995,\n",
            "          -0.0759],\n",
            "         [ 1.2122, -1.3464, -1.4380, -0.3953,  0.8133,  0.4536,  1.1812,\n",
            "          -0.4805]],\n",
            "\n",
            "        [[-0.4487, -0.2308, -1.0326,  1.4882,  0.8386,  0.5371, -1.7610,\n",
            "           0.6093],\n",
            "         [ 0.3198,  1.9980,  0.4207, -0.2170, -1.5993, -0.7608, -0.5964,\n",
            "           0.4350],\n",
            "         [ 1.2454,  0.4101, -0.0711, -0.9072, -0.3931,  1.7777, -0.9525,\n",
            "          -1.1094]]])\n",
            "out \n",
            " (torch.Size([5, 3, 8])) = \n",
            " tensor([[[ 1.5072, -0.3689, -0.7833,  1.4534,  0.4532, -1.1738, -1.1318,\n",
            "           0.0441],\n",
            "         [ 0.9657, -1.1064, -1.7280,  0.5321,  1.4735,  0.2384,  0.1837,\n",
            "          -0.5589],\n",
            "         [ 0.5921,  1.0295,  0.4554,  0.4706,  0.9227, -1.8931, -0.2978,\n",
            "          -1.2793]],\n",
            "\n",
            "        [[ 0.3817, -0.7666, -0.5781,  2.0679, -1.2648,  0.4617, -0.7824,\n",
            "           0.4807],\n",
            "         [-0.9423, -0.0057, -0.5129,  0.7924,  1.2833,  0.1554,  1.0732,\n",
            "          -1.8434],\n",
            "         [-2.3159,  0.8206, -0.1647,  0.0420,  0.5669,  0.4455, -0.4817,\n",
            "           1.0872]],\n",
            "\n",
            "        [[-0.7168, -1.5085,  0.0076,  1.2149,  0.6152,  1.0671, -1.3363,\n",
            "           0.6568],\n",
            "         [-1.8598,  1.6783, -0.0766, -0.1215, -0.0123, -0.2590, -0.5184,\n",
            "           1.1694],\n",
            "         [-0.6649, -0.1501, -1.4964, -0.8431,  1.4102, -0.1975,  1.5506,\n",
            "           0.3913]],\n",
            "\n",
            "        [[-1.9271,  0.0321, -0.2131,  1.5873,  0.9770, -0.7763,  0.3966,\n",
            "          -0.0764],\n",
            "         [ 1.7942,  0.1308, -1.1657,  0.0926,  1.0252, -0.3016, -1.4995,\n",
            "          -0.0759],\n",
            "         [ 1.2122, -1.3464, -1.4380, -0.3953,  0.8133,  0.4536,  1.1812,\n",
            "          -0.4805]],\n",
            "\n",
            "        [[-0.4487, -0.2308, -1.0326,  1.4882,  0.8386,  0.5371, -1.7610,\n",
            "           0.6093],\n",
            "         [ 0.3198,  1.9980,  0.4207, -0.2170, -1.5993, -0.7608, -0.5964,\n",
            "           0.4350],\n",
            "         [ 1.2454,  0.4101, -0.0711, -0.9072, -0.3931,  1.7777, -0.9525,\n",
            "          -1.1094]]], grad_fn=<AddBackward0>)\n"
          ]
        }
      ]
    },
    {
      "cell_type": "code",
      "source": [
        "out[0].mean(), out[0].std()"
      ],
      "metadata": {
        "colab": {
          "base_uri": "https://localhost:8080/"
        },
        "id": "TSUGdHwL6yD2",
        "outputId": "e38f4032-4a80-477c-d0d7-ff64fe0b13e9"
      },
      "execution_count": null,
      "outputs": [
        {
          "output_type": "execute_result",
          "data": {
            "text/plain": [
              "(tensor(9.9341e-09, grad_fn=<MeanBackward0>),\n",
              " tensor(1.0215, grad_fn=<StdBackward0>))"
            ]
          },
          "metadata": {},
          "execution_count": 16
        }
      ]
    }
  ]
}